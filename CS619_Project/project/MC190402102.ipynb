{
  "nbformat": 4,
  "nbformat_minor": 0,
  "metadata": {
    "colab": {
      "name": "MC190402102.ipynb",
      "provenance": [],
      "collapsed_sections": [
        "1vIinhWgDFdk",
        "2cn815ytDJqP"
      ]
    },
    "kernelspec": {
      "name": "python3",
      "display_name": "Python 3"
    }
  },
  "cells": [
    {
      "cell_type": "markdown",
      "metadata": {
        "id": "c-jQqkD5YIX1"
      },
      "source": [
        "# Dataset Source"
      ]
    },
    {
      "cell_type": "markdown",
      "metadata": {
        "id": "tCFwT5H0YOYY"
      },
      "source": [
        "The ling-spam dataset is collected from https://www.kaggle.com/mandygu/lingspam-dataset/notebooks"
      ]
    },
    {
      "cell_type": "markdown",
      "metadata": {
        "id": "WAeY1bdvaPKA"
      },
      "source": [
        "# Imports & Installations"
      ]
    },
    {
      "cell_type": "code",
      "metadata": {
        "colab": {
          "base_uri": "https://localhost:8080/"
        },
        "id": "5mKA-UTjb7Tx",
        "outputId": "b99a4b9b-0b27-464a-ccdc-69118a79d1c2"
      },
      "source": [
        "!pip install twython"
      ],
      "execution_count": null,
      "outputs": [
        {
          "output_type": "stream",
          "text": [
            "Collecting twython\n",
            "  Downloading https://files.pythonhosted.org/packages/24/80/579b96dfaa9b536efde883d4f0df7ea2598a6f3117a6dd572787f4a2bcfb/twython-3.8.2-py3-none-any.whl\n",
            "Requirement already satisfied: requests-oauthlib>=0.4.0 in /usr/local/lib/python3.6/dist-packages (from twython) (1.3.0)\n",
            "Requirement already satisfied: requests>=2.1.0 in /usr/local/lib/python3.6/dist-packages (from twython) (2.23.0)\n",
            "Requirement already satisfied: oauthlib>=3.0.0 in /usr/local/lib/python3.6/dist-packages (from requests-oauthlib>=0.4.0->twython) (3.1.0)\n",
            "Requirement already satisfied: urllib3!=1.25.0,!=1.25.1,<1.26,>=1.21.1 in /usr/local/lib/python3.6/dist-packages (from requests>=2.1.0->twython) (1.24.3)\n",
            "Requirement already satisfied: idna<3,>=2.5 in /usr/local/lib/python3.6/dist-packages (from requests>=2.1.0->twython) (2.10)\n",
            "Requirement already satisfied: certifi>=2017.4.17 in /usr/local/lib/python3.6/dist-packages (from requests>=2.1.0->twython) (2020.12.5)\n",
            "Requirement already satisfied: chardet<4,>=3.0.2 in /usr/local/lib/python3.6/dist-packages (from requests>=2.1.0->twython) (3.0.4)\n",
            "Installing collected packages: twython\n",
            "Successfully installed twython-3.8.2\n"
          ],
          "name": "stdout"
        }
      ]
    },
    {
      "cell_type": "code",
      "metadata": {
        "id": "vWKTmKiyaQ7l"
      },
      "source": [
        "#Import libs\n",
        "import pandas as pd \n",
        "import numpy as np \n",
        "import matplotlib.pyplot as plt \n",
        "import seaborn as sns\n",
        "from nltk.stem.porter import PorterStemmer\n",
        "from nltk.stem import WordNetLemmatizer\n",
        "from nltk.sentiment.vader import SentimentIntensityAnalyzer\n",
        "from sklearn.feature_extraction.text import CountVectorizer,TfidfVectorizer\n",
        "from nltk.corpus import stopwords\n",
        "from sklearn.preprocessing import LabelEncoder\n",
        "from sklearn.metrics import accuracy_score, precision_score, recall_score\n",
        "from sklearn.model_selection import train_test_split\n",
        "from sklearn.linear_model import LogisticRegression\n",
        "from sklearn.naive_bayes import MultinomialNB\n",
        "from sklearn.neighbors import KNeighborsClassifier\n",
        "from sklearn.ensemble import RandomForestClassifier,GradientBoostingClassifier,AdaBoostClassifier,ExtraTreesClassifier\n",
        "from collections import Counter\n",
        "import string\n",
        "import warnings\n",
        "warnings.filterwarnings('ignore')\n",
        "import warnings\n",
        "warnings.filterwarnings('ignore')\n",
        "import re\n",
        "from tqdm import tqdm\n",
        "from nltk.corpus import stopwords\n",
        "from nltk.tokenize import word_tokenize, sent_tokenize"
      ],
      "execution_count": null,
      "outputs": []
    },
    {
      "cell_type": "markdown",
      "metadata": {
        "id": "IEJG4_5xU2dw"
      },
      "source": [
        "# Collecting Dataset"
      ]
    },
    {
      "cell_type": "markdown",
      "metadata": {
        "id": "ybeCljYqY5Zl"
      },
      "source": [
        "The reason of getting the dataset from my github repository is that the original csv is hosted at Kaggle which requires account signup to access the dataset thus referaining open access to the dataset. Therefore, github's public repository will make it easier for us to fetch the dataset without needing any permission."
      ]
    },
    {
      "cell_type": "code",
      "metadata": {
        "colab": {
          "base_uri": "https://localhost:8080/"
        },
        "id": "5YCVVybLU31B",
        "outputId": "b500e986-dee7-4ae4-a4aa-a87fe60c67e0"
      },
      "source": [
        "!wget \"http://raw.githubusercontent.com/alihussainia/Email-Spam-Classification-Project/master/messages.csv.zip\""
      ],
      "execution_count": null,
      "outputs": [
        {
          "output_type": "stream",
          "text": [
            "URL transformed to HTTPS due to an HSTS policy\n",
            "--2021-02-04 16:42:15--  https://raw.githubusercontent.com/alihussainia/Email-Spam-Classification-Project/master/messages.csv.zip\n",
            "Resolving raw.githubusercontent.com (raw.githubusercontent.com)... 151.101.0.133, 151.101.64.133, 151.101.128.133, ...\n",
            "Connecting to raw.githubusercontent.com (raw.githubusercontent.com)|151.101.0.133|:443... connected.\n",
            "HTTP request sent, awaiting response... 200 OK\n",
            "Length: 3272271 (3.1M) [application/zip]\n",
            "Saving to: ‘messages.csv.zip.1’\n",
            "\n",
            "messages.csv.zip.1  100%[===================>]   3.12M  7.69MB/s    in 0.4s    \n",
            "\n",
            "2021-02-04 16:42:16 (7.69 MB/s) - ‘messages.csv.zip.1’ saved [3272271/3272271]\n",
            "\n"
          ],
          "name": "stdout"
        }
      ]
    },
    {
      "cell_type": "code",
      "metadata": {
        "colab": {
          "base_uri": "https://localhost:8080/"
        },
        "id": "Rs-12iaTU8Xz",
        "outputId": "489519ec-29bd-486c-c466-a1a8871dec56"
      },
      "source": [
        "# Extracting dataset\n",
        "!unzip messages.csv.zip"
      ],
      "execution_count": null,
      "outputs": [
        {
          "output_type": "stream",
          "text": [
            "Archive:  messages.csv.zip\n",
            "replace messages.csv? [y]es, [n]o, [A]ll, [N]one, [r]ename: n\n"
          ],
          "name": "stdout"
        }
      ]
    },
    {
      "cell_type": "markdown",
      "metadata": {
        "id": "20U3sC-bWqUz"
      },
      "source": [
        "#Understanding our dataset"
      ]
    },
    {
      "cell_type": "code",
      "metadata": {
        "id": "ipp3-4ZMW_7P"
      },
      "source": [
        "# Loading dataset as a Pandas DataFrame\n",
        "dataset = pd.read_csv('messages.csv')"
      ],
      "execution_count": null,
      "outputs": []
    },
    {
      "cell_type": "code",
      "metadata": {
        "colab": {
          "base_uri": "https://localhost:8080/",
          "height": 343
        },
        "id": "7m8cfr1MW6Eq",
        "outputId": "3b13f13e-c59f-4ed9-ea84-b255e5310d85"
      },
      "source": [
        "dataset.head(10)"
      ],
      "execution_count": null,
      "outputs": [
        {
          "output_type": "execute_result",
          "data": {
            "text/html": [
              "<div>\n",
              "<style scoped>\n",
              "    .dataframe tbody tr th:only-of-type {\n",
              "        vertical-align: middle;\n",
              "    }\n",
              "\n",
              "    .dataframe tbody tr th {\n",
              "        vertical-align: top;\n",
              "    }\n",
              "\n",
              "    .dataframe thead th {\n",
              "        text-align: right;\n",
              "    }\n",
              "</style>\n",
              "<table border=\"1\" class=\"dataframe\">\n",
              "  <thead>\n",
              "    <tr style=\"text-align: right;\">\n",
              "      <th></th>\n",
              "      <th>subject</th>\n",
              "      <th>message</th>\n",
              "      <th>label</th>\n",
              "    </tr>\n",
              "  </thead>\n",
              "  <tbody>\n",
              "    <tr>\n",
              "      <th>0</th>\n",
              "      <td>job posting - apple-iss research center</td>\n",
              "      <td>content - length : 3386 apple-iss research cen...</td>\n",
              "      <td>0</td>\n",
              "    </tr>\n",
              "    <tr>\n",
              "      <th>1</th>\n",
              "      <td>NaN</td>\n",
              "      <td>lang classification grimes , joseph e . and ba...</td>\n",
              "      <td>0</td>\n",
              "    </tr>\n",
              "    <tr>\n",
              "      <th>2</th>\n",
              "      <td>query : letter frequencies for text identifica...</td>\n",
              "      <td>i am posting this inquiry for sergei atamas ( ...</td>\n",
              "      <td>0</td>\n",
              "    </tr>\n",
              "    <tr>\n",
              "      <th>3</th>\n",
              "      <td>risk</td>\n",
              "      <td>a colleague and i are researching the differin...</td>\n",
              "      <td>0</td>\n",
              "    </tr>\n",
              "    <tr>\n",
              "      <th>4</th>\n",
              "      <td>request book information</td>\n",
              "      <td>earlier this morning i was on the phone with a...</td>\n",
              "      <td>0</td>\n",
              "    </tr>\n",
              "    <tr>\n",
              "      <th>5</th>\n",
              "      <td>call for abstracts : optimality in syntactic t...</td>\n",
              "      <td>content - length : 4437 call for papers is the...</td>\n",
              "      <td>0</td>\n",
              "    </tr>\n",
              "    <tr>\n",
              "      <th>6</th>\n",
              "      <td>m . a . in scandinavian linguistics</td>\n",
              "      <td>m . a . in scandinavian linguistics at the uni...</td>\n",
              "      <td>0</td>\n",
              "    </tr>\n",
              "    <tr>\n",
              "      <th>7</th>\n",
              "      <td>call for papers : linguistics session of the m...</td>\n",
              "      <td>call for papers linguistics session - - midwes...</td>\n",
              "      <td>0</td>\n",
              "    </tr>\n",
              "    <tr>\n",
              "      <th>8</th>\n",
              "      <td>foreign language in commercials</td>\n",
              "      <td>content - length : 1937 greetings ! i ' m wond...</td>\n",
              "      <td>0</td>\n",
              "    </tr>\n",
              "    <tr>\n",
              "      <th>9</th>\n",
              "      <td>fulbright announcement : please post / dissemi...</td>\n",
              "      <td>fulbright announcement : please post / dissemi...</td>\n",
              "      <td>0</td>\n",
              "    </tr>\n",
              "  </tbody>\n",
              "</table>\n",
              "</div>"
            ],
            "text/plain": [
              "                                             subject  ... label\n",
              "0            job posting - apple-iss research center  ...     0\n",
              "1                                                NaN  ...     0\n",
              "2  query : letter frequencies for text identifica...  ...     0\n",
              "3                                               risk  ...     0\n",
              "4                           request book information  ...     0\n",
              "5  call for abstracts : optimality in syntactic t...  ...     0\n",
              "6                m . a . in scandinavian linguistics  ...     0\n",
              "7  call for papers : linguistics session of the m...  ...     0\n",
              "8                    foreign language in commercials  ...     0\n",
              "9  fulbright announcement : please post / dissemi...  ...     0\n",
              "\n",
              "[10 rows x 3 columns]"
            ]
          },
          "metadata": {
            "tags": []
          },
          "execution_count": 155
        }
      ]
    },
    {
      "cell_type": "markdown",
      "metadata": {
        "id": "rB6hxKfNXxFS"
      },
      "source": [
        "# Data Transformation"
      ]
    },
    {
      "cell_type": "markdown",
      "metadata": {
        "id": "1vIinhWgDFdk"
      },
      "source": [
        "### Converting Messages to Lower Case"
      ]
    },
    {
      "cell_type": "code",
      "metadata": {
        "id": "vKpR7CmrXqsF"
      },
      "source": [
        "# converting all messages to lower case\n",
        "\n",
        "dataset['message'] = dataset['message'].str.lower()"
      ],
      "execution_count": null,
      "outputs": []
    },
    {
      "cell_type": "markdown",
      "metadata": {
        "id": "2cn815ytDJqP"
      },
      "source": [
        "### Cleaning Data"
      ]
    },
    {
      "cell_type": "markdown",
      "metadata": {
        "id": "BPOPb8R0DO4f"
      },
      "source": [
        "We are starting with null value check"
      ]
    },
    {
      "cell_type": "code",
      "metadata": {
        "colab": {
          "base_uri": "https://localhost:8080/"
        },
        "id": "Vo8Tje8aYcYQ",
        "outputId": "31491767-5674-43ab-92c0-e23ddf12d7ad"
      },
      "source": [
        "# Cleaning Data\n",
        "# checing null values \n",
        "dataset.isnull().sum()"
      ],
      "execution_count": null,
      "outputs": [
        {
          "output_type": "execute_result",
          "data": {
            "text/plain": [
              "subject    62\n",
              "message     0\n",
              "label       0\n",
              "dtype: int64"
            ]
          },
          "metadata": {
            "tags": []
          },
          "execution_count": 157
        }
      ]
    },
    {
      "cell_type": "markdown",
      "metadata": {
        "id": "U4IvY6e6Zkv8"
      },
      "source": [
        "From here we can observe that data is missing in the subject column therefore, we are filling the null values with mode values and since, mode returns a Series, so you still need to access the row you want before replacing NaN values in your DataFrame\n",
        "\n"
      ]
    },
    {
      "cell_type": "code",
      "metadata": {
        "id": "8EMAyiKBYdmh"
      },
      "source": [
        "dataset.fillna(dataset['subject'].mode().values[0],inplace=True)"
      ],
      "execution_count": null,
      "outputs": []
    },
    {
      "cell_type": "code",
      "metadata": {
        "colab": {
          "base_uri": "https://localhost:8080/"
        },
        "id": "drLssPjFZYuV",
        "outputId": "f6466158-d62c-4bed-d531-da03f6b28f9a"
      },
      "source": [
        "# let's once again \n",
        "dataset.isnull().sum()"
      ],
      "execution_count": null,
      "outputs": [
        {
          "output_type": "execute_result",
          "data": {
            "text/plain": [
              "subject    0\n",
              "message    0\n",
              "label      0\n",
              "dtype: int64"
            ]
          },
          "metadata": {
            "tags": []
          },
          "execution_count": 159
        }
      ]
    },
    {
      "cell_type": "markdown",
      "metadata": {
        "id": "FAyjZDqVZo0N"
      },
      "source": [
        "Now it's looking perfect and move on to next step's ."
      ]
    },
    {
      "cell_type": "code",
      "metadata": {
        "id": "c-BNiCvCZzQA"
      },
      "source": [
        "df = dataset.copy()"
      ],
      "execution_count": null,
      "outputs": []
    },
    {
      "cell_type": "markdown",
      "metadata": {
        "id": "HrQ9Tr-oVxH8"
      },
      "source": [
        "To get clarity about mail let's merge both subject and message ."
      ]
    },
    {
      "cell_type": "code",
      "metadata": {
        "colab": {
          "base_uri": "https://localhost:8080/",
          "height": 279
        },
        "id": "eOoo6yxsZfiV",
        "outputId": "9906eeba-9624-48b1-e0b9-c7e616707c45"
      },
      "source": [
        "df['sub_mssg']=df['subject']+df['message']\n",
        "df.head()"
      ],
      "execution_count": null,
      "outputs": [
        {
          "output_type": "execute_result",
          "data": {
            "text/html": [
              "<div>\n",
              "<style scoped>\n",
              "    .dataframe tbody tr th:only-of-type {\n",
              "        vertical-align: middle;\n",
              "    }\n",
              "\n",
              "    .dataframe tbody tr th {\n",
              "        vertical-align: top;\n",
              "    }\n",
              "\n",
              "    .dataframe thead th {\n",
              "        text-align: right;\n",
              "    }\n",
              "</style>\n",
              "<table border=\"1\" class=\"dataframe\">\n",
              "  <thead>\n",
              "    <tr style=\"text-align: right;\">\n",
              "      <th></th>\n",
              "      <th>subject</th>\n",
              "      <th>message</th>\n",
              "      <th>label</th>\n",
              "      <th>sub_mssg</th>\n",
              "    </tr>\n",
              "  </thead>\n",
              "  <tbody>\n",
              "    <tr>\n",
              "      <th>0</th>\n",
              "      <td>job posting - apple-iss research center</td>\n",
              "      <td>content - length : 3386 apple-iss research cen...</td>\n",
              "      <td>0</td>\n",
              "      <td>job posting - apple-iss research centercontent...</td>\n",
              "    </tr>\n",
              "    <tr>\n",
              "      <th>1</th>\n",
              "      <td>sociolinguistics</td>\n",
              "      <td>lang classification grimes , joseph e . and ba...</td>\n",
              "      <td>0</td>\n",
              "      <td>sociolinguisticslang classification grimes , j...</td>\n",
              "    </tr>\n",
              "    <tr>\n",
              "      <th>2</th>\n",
              "      <td>query : letter frequencies for text identifica...</td>\n",
              "      <td>i am posting this inquiry for sergei atamas ( ...</td>\n",
              "      <td>0</td>\n",
              "      <td>query : letter frequencies for text identifica...</td>\n",
              "    </tr>\n",
              "    <tr>\n",
              "      <th>3</th>\n",
              "      <td>risk</td>\n",
              "      <td>a colleague and i are researching the differin...</td>\n",
              "      <td>0</td>\n",
              "      <td>riska colleague and i are researching the diff...</td>\n",
              "    </tr>\n",
              "    <tr>\n",
              "      <th>4</th>\n",
              "      <td>request book information</td>\n",
              "      <td>earlier this morning i was on the phone with a...</td>\n",
              "      <td>0</td>\n",
              "      <td>request book informationearlier this morning i...</td>\n",
              "    </tr>\n",
              "  </tbody>\n",
              "</table>\n",
              "</div>"
            ],
            "text/plain": [
              "                                             subject  ...                                           sub_mssg\n",
              "0            job posting - apple-iss research center  ...  job posting - apple-iss research centercontent...\n",
              "1                                   sociolinguistics  ...  sociolinguisticslang classification grimes , j...\n",
              "2  query : letter frequencies for text identifica...  ...  query : letter frequencies for text identifica...\n",
              "3                                               risk  ...  riska colleague and i are researching the diff...\n",
              "4                           request book information  ...  request book informationearlier this morning i...\n",
              "\n",
              "[5 rows x 4 columns]"
            ]
          },
          "metadata": {
            "tags": []
          },
          "execution_count": 161
        }
      ]
    },
    {
      "cell_type": "code",
      "metadata": {
        "colab": {
          "base_uri": "https://localhost:8080/"
        },
        "id": "Z8GgNU3IZ35O",
        "outputId": "22832a0c-bac9-4863-abf5-c001d99f8a22"
      },
      "source": [
        "df['sub_mssg'].describe()"
      ],
      "execution_count": null,
      "outputs": [
        {
          "output_type": "execute_result",
          "data": {
            "text/plain": [
              "count                                                  2893\n",
              "unique                                                 2876\n",
              "top       re := 20 the virtual girlfriend and virtual bo...\n",
              "freq                                                      4\n",
              "Name: sub_mssg, dtype: object"
            ]
          },
          "metadata": {
            "tags": []
          },
          "execution_count": 162
        }
      ]
    },
    {
      "cell_type": "markdown",
      "metadata": {
        "id": "UdZccGgkV8_b"
      },
      "source": [
        "Adding lenght columns which represents original length of the subject+message"
      ]
    },
    {
      "cell_type": "code",
      "metadata": {
        "colab": {
          "base_uri": "https://localhost:8080/",
          "height": 279
        },
        "id": "wKlV1mno8Ft8",
        "outputId": "2a4b3131-8c08-449b-d414-bc47fa831299"
      },
      "source": [
        "df['length']=df['sub_mssg'].apply(len)\n",
        "df.head()"
      ],
      "execution_count": null,
      "outputs": [
        {
          "output_type": "execute_result",
          "data": {
            "text/html": [
              "<div>\n",
              "<style scoped>\n",
              "    .dataframe tbody tr th:only-of-type {\n",
              "        vertical-align: middle;\n",
              "    }\n",
              "\n",
              "    .dataframe tbody tr th {\n",
              "        vertical-align: top;\n",
              "    }\n",
              "\n",
              "    .dataframe thead th {\n",
              "        text-align: right;\n",
              "    }\n",
              "</style>\n",
              "<table border=\"1\" class=\"dataframe\">\n",
              "  <thead>\n",
              "    <tr style=\"text-align: right;\">\n",
              "      <th></th>\n",
              "      <th>subject</th>\n",
              "      <th>message</th>\n",
              "      <th>label</th>\n",
              "      <th>sub_mssg</th>\n",
              "      <th>length</th>\n",
              "    </tr>\n",
              "  </thead>\n",
              "  <tbody>\n",
              "    <tr>\n",
              "      <th>0</th>\n",
              "      <td>job posting - apple-iss research center</td>\n",
              "      <td>content - length : 3386 apple-iss research cen...</td>\n",
              "      <td>0</td>\n",
              "      <td>job posting - apple-iss research centercontent...</td>\n",
              "      <td>2895</td>\n",
              "    </tr>\n",
              "    <tr>\n",
              "      <th>1</th>\n",
              "      <td>sociolinguistics</td>\n",
              "      <td>lang classification grimes , joseph e . and ba...</td>\n",
              "      <td>0</td>\n",
              "      <td>sociolinguisticslang classification grimes , j...</td>\n",
              "      <td>1816</td>\n",
              "    </tr>\n",
              "    <tr>\n",
              "      <th>2</th>\n",
              "      <td>query : letter frequencies for text identifica...</td>\n",
              "      <td>i am posting this inquiry for sergei atamas ( ...</td>\n",
              "      <td>0</td>\n",
              "      <td>query : letter frequencies for text identifica...</td>\n",
              "      <td>1485</td>\n",
              "    </tr>\n",
              "    <tr>\n",
              "      <th>3</th>\n",
              "      <td>risk</td>\n",
              "      <td>a colleague and i are researching the differin...</td>\n",
              "      <td>0</td>\n",
              "      <td>riska colleague and i are researching the diff...</td>\n",
              "      <td>328</td>\n",
              "    </tr>\n",
              "    <tr>\n",
              "      <th>4</th>\n",
              "      <td>request book information</td>\n",
              "      <td>earlier this morning i was on the phone with a...</td>\n",
              "      <td>0</td>\n",
              "      <td>request book informationearlier this morning i...</td>\n",
              "      <td>1070</td>\n",
              "    </tr>\n",
              "  </tbody>\n",
              "</table>\n",
              "</div>"
            ],
            "text/plain": [
              "                                             subject  ... length\n",
              "0            job posting - apple-iss research center  ...   2895\n",
              "1                                   sociolinguistics  ...   1816\n",
              "2  query : letter frequencies for text identifica...  ...   1485\n",
              "3                                               risk  ...    328\n",
              "4                           request book information  ...   1070\n",
              "\n",
              "[5 rows x 5 columns]"
            ]
          },
          "metadata": {
            "tags": []
          },
          "execution_count": 163
        }
      ]
    },
    {
      "cell_type": "markdown",
      "metadata": {
        "id": "Wf4ksETsWJbP"
      },
      "source": [
        "dropping un-necessary features "
      ]
    },
    {
      "cell_type": "code",
      "metadata": {
        "id": "0FapNyhxZ6A6"
      },
      "source": [
        "df.drop('subject',axis=1,inplace=True)"
      ],
      "execution_count": null,
      "outputs": []
    },
    {
      "cell_type": "markdown",
      "metadata": {
        "id": "Zv6CPij6aehi"
      },
      "source": [
        "### Preprocessing Email Messages"
      ]
    },
    {
      "cell_type": "code",
      "metadata": {
        "id": "gspH1ewQaK75"
      },
      "source": [
        "def decontact(phrase):\n",
        "    # specific\n",
        "    phrase = re.sub(r\"won't\", \"will not\", phrase)\n",
        "    phrase = re.sub(r\"can\\'t\", \"can not\", phrase)\n",
        "\n",
        "    # general\n",
        "    phrase = re.sub(r\"n\\'t\", \" not\", phrase)\n",
        "    phrase = re.sub(r\"\\'re\", \" are\", phrase)\n",
        "    phrase = re.sub(r\"\\'s\", \" is\", phrase)\n",
        "    phrase = re.sub(r\"\\'d\", \" would\", phrase)\n",
        "    phrase = re.sub(r\"\\'ll\", \" will\", phrase)\n",
        "    phrase = re.sub(r\"\\'t\", \" not\", phrase)\n",
        "    phrase = re.sub(r\"\\'ve\", \" have\", phrase)\n",
        "    phrase = re.sub(r\"\\'m\", \" am\", phrase)\n",
        "    return phrase"
      ],
      "execution_count": null,
      "outputs": []
    },
    {
      "cell_type": "code",
      "metadata": {
        "colab": {
          "base_uri": "https://localhost:8080/",
          "height": 187
        },
        "id": "tav7DdtLa65_",
        "outputId": "925df233-82a8-4ca5-cd2e-4632c9c526bb"
      },
      "source": [
        "#REPLACING NUMBERS FROM Digits to Words\n",
        "df['sub_mssg']=df['sub_mssg'].str.replace(r'\\d+(\\.\\d+)?', 'numbers')\n",
        "df['sub_mssg'][0]"
      ],
      "execution_count": null,
      "outputs": [
        {
          "output_type": "execute_result",
          "data": {
            "application/vnd.google.colaboratory.intrinsic+json": {
              "type": "string"
            },
            "text/plain": [
              "\"job posting - apple-iss research centercontent - length : numbers apple-iss research center a us $ numbers million joint venture between apple computer inc . and the institute of systems science of the national university of singapore , located in singapore , is looking for : a senior speech scientist - - - - - - - - - - - - - - - - - - - - - - - - - the successful candidate will have research expertise in computational linguistics , including natural language processing and * * english * * and * * chinese * * statistical language modeling . knowledge of state-of - the-art corpus-based n - gram language models , cache language models , and part-of - speech language models are required . a text - to - speech project leader - - - - - - - - - - - - - - - - - - - - - - - - - - - - - - - the successful candidate will have research expertise expertise in two or more of the following areas : computational linguistics , including natural language parsing , lexical database design , and statistical language modeling ; text tokenization and normalization ; prosodic analysis . substantial knowledge of the phonology , syntax , and semantics of chinese is required . knowledge of acoustic phonetics and / or speech signal processing is desirable . both candidates will have a phd with at least numbers to numbers years of relevant work experience , or a technical msc degree with at least numbers to numbers years of experienc e . very strong software engineering skills , including design and implementation , and productization are required in these positions . knowledge of c , c + + and unix are preferred . a unix & c programmer - - - - - - - - - - - - - - - - - - - - we are looking for an experienced unix & c programmer , preferably with good industry experience , to join us in breaking new frontiers . strong knowledge of unix tools ( compilers , linkers , make , x - windows , e - mac , . . . ) and experience in matlab required . sun and silicon graphic experience is an advantage . programmers with less than two years industry experience need not apply . these positions include interaction with scientists in the national university of singapore , and with apple 's speech research and productization efforts located in cupertino , california . attendance and publication in international scientific / engineering conferences is encouraged . benefits include an internationally competitive salary , housing subsidy , and relocation expenses . _ _ _ _ _ _ _ _ _ _ _ _ _ _ _ _ _ _ _ _ _ _ _ _ _ _ _ _ _ _ _ _ _ _ _ _ _ _ _ _ _ _ _ _ _ _ _ _ _ _ _ _ _ _ _ _ _ _ _ _ _ _ _ _ _ _ send a complete resume , enclosing personal particulars , qualifications , experience and contact telephone number to : mr jean - luc lebrun center manager apple - iss research center , institute of systems science heng mui keng terrace , singapore numbers tel : ( numbers ) numbers-numbers fax : ( numbers ) numbers-numbers email : jllebrun @ iss . nus . sg\\n\""
            ]
          },
          "metadata": {
            "tags": []
          },
          "execution_count": 169
        }
      ]
    },
    {
      "cell_type": "code",
      "metadata": {
        "id": "OGCMOz2fa-om"
      },
      "source": [
        "#CONVRTING EVERYTHING TO LOWERCASE\n",
        "df['sub_mssg']=df['sub_mssg'].str.lower()\n",
        "#REPLACING NEXT LINES BY 'WHITE SPACE'\n",
        "df['sub_mssg']=df['sub_mssg'].str.replace(r'\\n',\" \") \n",
        "# REPLACING EMAIL IDs BY 'MAILID'\n",
        "df['sub_mssg']=df['sub_mssg'].str.replace(r'^.+@[^\\.].*\\.[a-z]{2,}$','MailID')\n",
        "# REPLACING URLs  BY 'Links'\n",
        "df['sub_mssg']=df['sub_mssg'].str.replace(r'^http\\://[a-zA-Z0-9\\-\\.]+\\.[a-zA-Z]{2,3}(/\\S*)?$','Links')\n",
        "# REPLACING CURRENCY SIGNS BY 'MONEY'\n",
        "df['sub_mssg']=df['sub_mssg'].str.replace(r'£|\\$', 'Money')\n",
        "# REPLACING LARGE WHITE SPACE BY SINGLE WHITE SPACE\n",
        "df['sub_mssg']=df['sub_mssg'].str.replace(r'\\s+', ' ')\n",
        "\n",
        "# REPLACING LEADING AND TRAILING WHITE SPACE BY SINGLE WHITE SPACE\n",
        "df['sub_mssg']=df['sub_mssg'].str.replace(r'^\\s+|\\s+?$', '')\n",
        "#REPLACING CONTACT NUMBERS\n",
        "df['sub_mssg']=df['sub_mssg'].str.replace(r'^\\(?[\\d]{3}\\)?[\\s-]?[\\d]{3}[\\s-]?[\\d]{4}$','contact number')\n",
        "#REPLACING SPECIAL CHARACTERS  BY WHITE SPACE \n",
        "df['sub_mssg']=df['sub_mssg'].str.replace(r\"[^a-zA-Z0-9]+\", \" \")"
      ],
      "execution_count": null,
      "outputs": []
    },
    {
      "cell_type": "code",
      "metadata": {
        "id": "A0h3Gv5gbCBm"
      },
      "source": [
        "#CONVRTING EVERYTHING TO LOWERCASE\n",
        "df['message']=df['message'].str.lower()\n",
        "#REPLACING NEXT LINES BY 'WHITE SPACE'\n",
        "df['message']=df['message'].str.replace(r'\\n',\" \") \n",
        "# REPLACING EMAIL IDs BY 'MAILID'\n",
        "df['message']=df['message'].str.replace(r'^.+@[^\\.].*\\.[a-z]{2,}$','MailID')\n",
        "# REPLACING URLs  BY 'Links'\n",
        "df['message']=df['message'].str.replace(r'^http\\://[a-zA-Z0-9\\-\\.]+\\.[a-zA-Z]{2,3}(/\\S*)?$','Links')\n",
        "# REPLACING CURRENCY SIGNS BY 'MONEY'\n",
        "df['message']=df['message'].str.replace(r'£|\\$', 'Money')\n",
        "# REPLACING LARGE WHITE SPACE BY SINGLE WHITE SPACE\n",
        "df['message']=df['message'].str.replace(r'\\s+', ' ')\n",
        "\n",
        "# REPLACING LEADING AND TRAILING WHITE SPACE BY SINGLE WHITE SPACE\n",
        "df['message']=df['message'].str.replace(r'^\\s+|\\s+?$', '')\n",
        "#REPLACING CONTACT NUMBERS\n",
        "df['message']=df['message'].str.replace(r'^\\(?[\\d]{3}\\)?[\\s-]?[\\d]{3}[\\s-]?[\\d]{4}$','contact number')\n",
        "#REPLACING SPECIAL CHARACTERS  BY WHITE SPACE \n",
        "df['message']=df['message'].str.replace(r\"[^a-zA-Z0-9]+\", \" \")"
      ],
      "execution_count": null,
      "outputs": []
    },
    {
      "cell_type": "markdown",
      "metadata": {
        "id": "jJl7_1xEWnlQ"
      },
      "source": [
        "**Removing stopwords**\n"
      ]
    },
    {
      "cell_type": "code",
      "metadata": {
        "colab": {
          "base_uri": "https://localhost:8080/"
        },
        "id": "JQsc0ahUbUZU",
        "outputId": "2f57d2f4-2e2e-448d-91bf-5000ec902890"
      },
      "source": [
        "# # to check the nltk stopwords list\n",
        "# import nltk\n",
        "# from nltk.corpus import stopwords\n",
        "# print(stopwords.words('english'))\n",
        "\n",
        "# removing stopwords \n",
        "import nltk\n",
        "nltk.download('stopwords')\n",
        "stop = stopwords.words('english')\n",
        "df['Cleaned_Text'] = df['sub_mssg'].apply(lambda x: ' '.join([word for word in x.split() if word not in (stop)]))"
      ],
      "execution_count": null,
      "outputs": [
        {
          "output_type": "stream",
          "text": [
            "[nltk_data] Downloading package stopwords to /root/nltk_data...\n",
            "[nltk_data]   Package stopwords is already up-to-date!\n"
          ],
          "name": "stdout"
        }
      ]
    },
    {
      "cell_type": "markdown",
      "metadata": {
        "id": "DdR7m7ldW1ra"
      },
      "source": [
        "Dropping redundant features"
      ]
    },
    {
      "cell_type": "code",
      "metadata": {
        "id": "wSwmaoOCca7h"
      },
      "source": [
        "df.drop('message',axis=1,inplace=True)"
      ],
      "execution_count": null,
      "outputs": []
    },
    {
      "cell_type": "code",
      "metadata": {
        "id": "jRsDfuizcdpD"
      },
      "source": [
        "df.drop('sub_mssg',axis=1,inplace=True)"
      ],
      "execution_count": null,
      "outputs": []
    },
    {
      "cell_type": "code",
      "metadata": {
        "colab": {
          "base_uri": "https://localhost:8080/"
        },
        "id": "QHIIvbiYciRF",
        "outputId": "1b161451-2065-4b1b-807d-5983651f1e43"
      },
      "source": [
        "# checking null values in df\n",
        "df.isnull().sum()"
      ],
      "execution_count": null,
      "outputs": [
        {
          "output_type": "execute_result",
          "data": {
            "text/plain": [
              "label           0\n",
              "length          0\n",
              "Cleaned_Text    0\n",
              "dtype: int64"
            ]
          },
          "metadata": {
            "tags": []
          },
          "execution_count": 180
        }
      ]
    },
    {
      "cell_type": "code",
      "metadata": {
        "colab": {
          "base_uri": "https://localhost:8080/",
          "height": 195
        },
        "id": "CpRyBDzGco2M",
        "outputId": "11445ae4-5587-4a67-e3ea-613a2a47a664"
      },
      "source": [
        "df['lgth_clean']=df['Cleaned_Text'].apply(len)\n",
        "df.head()"
      ],
      "execution_count": null,
      "outputs": [
        {
          "output_type": "execute_result",
          "data": {
            "text/html": [
              "<div>\n",
              "<style scoped>\n",
              "    .dataframe tbody tr th:only-of-type {\n",
              "        vertical-align: middle;\n",
              "    }\n",
              "\n",
              "    .dataframe tbody tr th {\n",
              "        vertical-align: top;\n",
              "    }\n",
              "\n",
              "    .dataframe thead th {\n",
              "        text-align: right;\n",
              "    }\n",
              "</style>\n",
              "<table border=\"1\" class=\"dataframe\">\n",
              "  <thead>\n",
              "    <tr style=\"text-align: right;\">\n",
              "      <th></th>\n",
              "      <th>label</th>\n",
              "      <th>length</th>\n",
              "      <th>Cleaned_Text</th>\n",
              "      <th>lgth_clean</th>\n",
              "    </tr>\n",
              "  </thead>\n",
              "  <tbody>\n",
              "    <tr>\n",
              "      <th>0</th>\n",
              "      <td>0</td>\n",
              "      <td>2895</td>\n",
              "      <td>job posting apple iss research centercontent l...</td>\n",
              "      <td>2108</td>\n",
              "    </tr>\n",
              "    <tr>\n",
              "      <th>1</th>\n",
              "      <td>0</td>\n",
              "      <td>1816</td>\n",
              "      <td>sociolinguisticslang classification grimes jos...</td>\n",
              "      <td>1506</td>\n",
              "    </tr>\n",
              "    <tr>\n",
              "      <th>2</th>\n",
              "      <td>0</td>\n",
              "      <td>1485</td>\n",
              "      <td>query letter frequencies text identificationi ...</td>\n",
              "      <td>1150</td>\n",
              "    </tr>\n",
              "    <tr>\n",
              "      <th>3</th>\n",
              "      <td>0</td>\n",
              "      <td>328</td>\n",
              "      <td>riska colleague researching differing degrees ...</td>\n",
              "      <td>216</td>\n",
              "    </tr>\n",
              "    <tr>\n",
              "      <th>4</th>\n",
              "      <td>0</td>\n",
              "      <td>1070</td>\n",
              "      <td>request book informationearlier morning phone ...</td>\n",
              "      <td>653</td>\n",
              "    </tr>\n",
              "  </tbody>\n",
              "</table>\n",
              "</div>"
            ],
            "text/plain": [
              "   label  length                                       Cleaned_Text  lgth_clean\n",
              "0      0    2895  job posting apple iss research centercontent l...        2108\n",
              "1      0    1816  sociolinguisticslang classification grimes jos...        1506\n",
              "2      0    1485  query letter frequencies text identificationi ...        1150\n",
              "3      0     328  riska colleague researching differing degrees ...         216\n",
              "4      0    1070  request book informationearlier morning phone ...         653"
            ]
          },
          "metadata": {
            "tags": []
          },
          "execution_count": 181
        }
      ]
    },
    {
      "cell_type": "markdown",
      "metadata": {
        "id": "Jv1JJv1hXB6E"
      },
      "source": [
        "Dropping counts to visualize dataset"
      ]
    },
    {
      "cell_type": "code",
      "metadata": {
        "id": "zODcHXkoBW7Q"
      },
      "source": [
        "df.drop('length',axis=1,inplace=True) # original subject+message len\n",
        "df.drop('lgth_clean',axis=1,inplace=True) # after transformation sub+msg len"
      ],
      "execution_count": null,
      "outputs": []
    },
    {
      "cell_type": "markdown",
      "metadata": {
        "id": "0AIy-KxhXQGh"
      },
      "source": [
        "# Shape of the Dataset"
      ]
    },
    {
      "cell_type": "code",
      "metadata": {
        "colab": {
          "base_uri": "https://localhost:8080/"
        },
        "id": "TrFe1Mwk69AD",
        "outputId": "a3d74717-d88a-421b-a1de-51d6fb54e851"
      },
      "source": [
        "df.shape"
      ],
      "execution_count": null,
      "outputs": [
        {
          "output_type": "execute_result",
          "data": {
            "text/plain": [
              "(2893, 2)"
            ]
          },
          "metadata": {
            "tags": []
          },
          "execution_count": 187
        }
      ]
    },
    {
      "cell_type": "markdown",
      "metadata": {
        "id": "RzgJqpH0XUsF"
      },
      "source": [
        "# First Ten Values of the Dataset"
      ]
    },
    {
      "cell_type": "code",
      "metadata": {
        "colab": {
          "base_uri": "https://localhost:8080/",
          "height": 343
        },
        "id": "pPMaNE_pcyvs",
        "outputId": "f136943e-537e-43c5-b1b1-527da08e7b30"
      },
      "source": [
        "df.head(10)"
      ],
      "execution_count": null,
      "outputs": [
        {
          "output_type": "execute_result",
          "data": {
            "text/html": [
              "<div>\n",
              "<style scoped>\n",
              "    .dataframe tbody tr th:only-of-type {\n",
              "        vertical-align: middle;\n",
              "    }\n",
              "\n",
              "    .dataframe tbody tr th {\n",
              "        vertical-align: top;\n",
              "    }\n",
              "\n",
              "    .dataframe thead th {\n",
              "        text-align: right;\n",
              "    }\n",
              "</style>\n",
              "<table border=\"1\" class=\"dataframe\">\n",
              "  <thead>\n",
              "    <tr style=\"text-align: right;\">\n",
              "      <th></th>\n",
              "      <th>label</th>\n",
              "      <th>Cleaned_Text</th>\n",
              "    </tr>\n",
              "  </thead>\n",
              "  <tbody>\n",
              "    <tr>\n",
              "      <th>0</th>\n",
              "      <td>0</td>\n",
              "      <td>job posting apple iss research centercontent l...</td>\n",
              "    </tr>\n",
              "    <tr>\n",
              "      <th>1</th>\n",
              "      <td>0</td>\n",
              "      <td>sociolinguisticslang classification grimes jos...</td>\n",
              "    </tr>\n",
              "    <tr>\n",
              "      <th>2</th>\n",
              "      <td>0</td>\n",
              "      <td>query letter frequencies text identificationi ...</td>\n",
              "    </tr>\n",
              "    <tr>\n",
              "      <th>3</th>\n",
              "      <td>0</td>\n",
              "      <td>riska colleague researching differing degrees ...</td>\n",
              "    </tr>\n",
              "    <tr>\n",
              "      <th>4</th>\n",
              "      <td>0</td>\n",
              "      <td>request book informationearlier morning phone ...</td>\n",
              "    </tr>\n",
              "    <tr>\n",
              "      <th>5</th>\n",
              "      <td>0</td>\n",
              "      <td>call abstracts optimality syntactic theorycont...</td>\n",
              "    </tr>\n",
              "    <tr>\n",
              "      <th>6</th>\n",
              "      <td>0</td>\n",
              "      <td>scandinavian linguisticsm scandinavian linguis...</td>\n",
              "    </tr>\n",
              "    <tr>\n",
              "      <th>7</th>\n",
              "      <td>0</td>\n",
              "      <td>call papers linguistics session mlacall papers...</td>\n",
              "    </tr>\n",
              "    <tr>\n",
              "      <th>8</th>\n",
              "      <td>0</td>\n",
              "      <td>foreign language commercialscontent length num...</td>\n",
              "    </tr>\n",
              "    <tr>\n",
              "      <th>9</th>\n",
              "      <td>0</td>\n",
              "      <td>fulbright announcement please post disseminate...</td>\n",
              "    </tr>\n",
              "  </tbody>\n",
              "</table>\n",
              "</div>"
            ],
            "text/plain": [
              "   label                                       Cleaned_Text\n",
              "0      0  job posting apple iss research centercontent l...\n",
              "1      0  sociolinguisticslang classification grimes jos...\n",
              "2      0  query letter frequencies text identificationi ...\n",
              "3      0  riska colleague researching differing degrees ...\n",
              "4      0  request book informationearlier morning phone ...\n",
              "5      0  call abstracts optimality syntactic theorycont...\n",
              "6      0  scandinavian linguisticsm scandinavian linguis...\n",
              "7      0  call papers linguistics session mlacall papers...\n",
              "8      0  foreign language commercialscontent length num...\n",
              "9      0  fulbright announcement please post disseminate..."
            ]
          },
          "metadata": {
            "tags": []
          },
          "execution_count": 188
        }
      ]
    },
    {
      "cell_type": "markdown",
      "metadata": {
        "id": "aUl33XTvXauO"
      },
      "source": [
        "# Last Ten Values of the Dataset"
      ]
    },
    {
      "cell_type": "code",
      "metadata": {
        "colab": {
          "base_uri": "https://localhost:8080/",
          "height": 343
        },
        "id": "30CW4bpCdvCq",
        "outputId": "35fc6687-5e3f-489c-9af0-0c10f7e6e278"
      },
      "source": [
        "df.tail(10)"
      ],
      "execution_count": null,
      "outputs": [
        {
          "output_type": "execute_result",
          "data": {
            "text/html": [
              "<div>\n",
              "<style scoped>\n",
              "    .dataframe tbody tr th:only-of-type {\n",
              "        vertical-align: middle;\n",
              "    }\n",
              "\n",
              "    .dataframe tbody tr th {\n",
              "        vertical-align: top;\n",
              "    }\n",
              "\n",
              "    .dataframe thead th {\n",
              "        text-align: right;\n",
              "    }\n",
              "</style>\n",
              "<table border=\"1\" class=\"dataframe\">\n",
              "  <thead>\n",
              "    <tr style=\"text-align: right;\">\n",
              "      <th></th>\n",
              "      <th>label</th>\n",
              "      <th>Cleaned_Text</th>\n",
              "    </tr>\n",
              "  </thead>\n",
              "  <tbody>\n",
              "    <tr>\n",
              "      <th>2883</th>\n",
              "      <td>0</td>\n",
              "      <td>evolvable hardware gppaper available post scri...</td>\n",
              "    </tr>\n",
              "    <tr>\n",
              "      <th>2884</th>\n",
              "      <td>1</td>\n",
              "      <td>work calsvxtnhello thanks stopping taken many ...</td>\n",
              "    </tr>\n",
              "    <tr>\n",
              "      <th>2885</th>\n",
              "      <td>0</td>\n",
              "      <td>british vs american sgriffin bacal internet ma...</td>\n",
              "    </tr>\n",
              "    <tr>\n",
              "      <th>2886</th>\n",
              "      <td>1</td>\n",
              "      <td>fanny recommending nekdear sir madam spam mess...</td>\n",
              "    </tr>\n",
              "    <tr>\n",
              "      <th>2887</th>\n",
              "      <td>1</td>\n",
              "      <td>win Money numbersusd cruise raquel casino inc ...</td>\n",
              "    </tr>\n",
              "    <tr>\n",
              "      <th>2888</th>\n",
              "      <td>1</td>\n",
              "      <td>love profile ysuolvpvhello thanks stopping tak...</td>\n",
              "    </tr>\n",
              "    <tr>\n",
              "      <th>2889</th>\n",
              "      <td>1</td>\n",
              "      <td>asked join kiddinthe list owner kiddin invited...</td>\n",
              "    </tr>\n",
              "    <tr>\n",
              "      <th>2890</th>\n",
              "      <td>0</td>\n",
              "      <td>anglicization composers namesjudging return po...</td>\n",
              "    </tr>\n",
              "    <tr>\n",
              "      <th>2891</th>\n",
              "      <td>0</td>\n",
              "      <td>numbers numbers comparative method n ary compa...</td>\n",
              "    </tr>\n",
              "    <tr>\n",
              "      <th>2892</th>\n",
              "      <td>0</td>\n",
              "      <td>american english australiahello working thesis...</td>\n",
              "    </tr>\n",
              "  </tbody>\n",
              "</table>\n",
              "</div>"
            ],
            "text/plain": [
              "      label                                       Cleaned_Text\n",
              "2883      0  evolvable hardware gppaper available post scri...\n",
              "2884      1  work calsvxtnhello thanks stopping taken many ...\n",
              "2885      0  british vs american sgriffin bacal internet ma...\n",
              "2886      1  fanny recommending nekdear sir madam spam mess...\n",
              "2887      1  win Money numbersusd cruise raquel casino inc ...\n",
              "2888      1  love profile ysuolvpvhello thanks stopping tak...\n",
              "2889      1  asked join kiddinthe list owner kiddin invited...\n",
              "2890      0  anglicization composers namesjudging return po...\n",
              "2891      0  numbers numbers comparative method n ary compa...\n",
              "2892      0  american english australiahello working thesis..."
            ]
          },
          "metadata": {
            "tags": []
          },
          "execution_count": 189
        }
      ]
    }
  ]
}